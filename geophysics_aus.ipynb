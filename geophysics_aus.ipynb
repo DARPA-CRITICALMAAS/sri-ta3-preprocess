{
 "cells": [
  {
   "cell_type": "markdown",
   "metadata": {},
   "source": [
    "Imports and set relevant paths"
   ]
  },
  {
   "cell_type": "code",
   "execution_count": null,
   "metadata": {},
   "outputs": [],
   "source": [
    "import numpy as np\n",
    "from tqdm import tqdm\n",
    "import rasterio\n",
    "\n",
    "import utilities as utils\n",
    "\n",
    "RAW_DATA_DIR = \"data/LAWLEY22-RAW/\"\n",
    "DERIV_DATA_DIR = \"data/LAWLEY22-DERIV/\""
   ]
  },
  {
   "cell_type": "markdown",
   "metadata": {},
   "source": [
    "Load the names of ScienceBase raster (`.tif`) and vector (`.shp`) files."
   ]
  },
  {
   "cell_type": "code",
   "execution_count": null,
   "metadata": {},
   "outputs": [],
   "source": [
    "tifs, shps = utils.get_input_var_files(\"Australia\")"
   ]
  },
  {
   "cell_type": "markdown",
   "metadata": {},
   "source": [
    "Loads the raster data"
   ]
  },
  {
   "cell_type": "code",
   "execution_count": null,
   "metadata": {},
   "outputs": [],
   "source": [
    "rasters = utils.load_rasters(tifs, rasters_path=RAW_DATA_DIR, verbosity=1)"
   ]
  },
  {
   "cell_type": "markdown",
   "metadata": {},
   "source": [
    "We'll need to upsample rasters that have too low a resolution"
   ]
  },
  {
   "cell_type": "code",
   "execution_count": null,
   "metadata": {},
   "outputs": [],
   "source": [
    "target_resolution = (0.008, 0.008)\n",
    "rasters = utils.resample_rasters(target_resolution, rasters, tifs)"
   ]
  },
  {
   "cell_type": "markdown",
   "metadata": {},
   "source": [
    "Loads rasters of the vector data if available; otherwise generates them"
   ]
  },
  {
   "cell_type": "code",
   "execution_count": null,
   "metadata": {},
   "outputs": [],
   "source": [
    "try:\n",
    "    rasters += utils.load_rasters(shps, rasters_path=RAW_DATA_DIR, verbosity=1)\n",
    "except rasterio.RasterioIOError:\n",
    "    base_raster = rasters[-1] # defaults to intermediate resolution raster\n",
    "    vectors = utils.load_vectors(shps, vectors_path=RAW_DATA_DIR, verbosity=0)\n",
    "    pbar = tqdm(zip(shps, vectors))\n",
    "    for shp, vector in pbar:\n",
    "        pbar.set_description(f\"Processing {shp}\")\n",
    "        utils.proximity_raster_of_vector_points(base_raster, shp, vector)\n",
    "    rasters += utils.load_rasters(shps, rasters_path=RAW_DATA_DIR, verbosity=1)"
   ]
  },
  {
   "cell_type": "markdown",
   "metadata": {},
   "source": [
    "Loads the base grid for all data if available; otherwise generates it"
   ]
  },
  {
   "cell_type": "code",
   "execution_count": null,
   "metadata": {},
   "outputs": [],
   "source": [
    "grid_cell_ids = utils.generate_s2_grid(rasters, DERIV_DATA_DIR, \"s2_grid_aus\")"
   ]
  },
  {
   "cell_type": "markdown",
   "metadata": {},
   "source": [
    "Initialize the datacube"
   ]
  },
  {
   "cell_type": "code",
   "execution_count": null,
   "metadata": {},
   "outputs": [],
   "source": [
    "datacube = utils.init_datacube({\"s2_cell_id\": grid_cell_ids}, [\"s2_cell_center\", \"s2_cell_poly\"] + tifs + shps, verbosity=1)"
   ]
  },
  {
   "cell_type": "markdown",
   "metadata": {},
   "source": [
    "Load file with Deposits and Occurrences"
   ]
  },
  {
   "cell_type": "code",
   "execution_count": null,
   "metadata": {},
   "outputs": [],
   "source": [
    "df_dep, df_occ = utils.process_raw_deposit_file('GeologyMineralOccurrences_USCanada_Australia.csv', csv_path='data/LAWLEY22-RAW/', region='Australia', dep_grp='MVT')"
   ]
  },
  {
   "cell_type": "markdown",
   "metadata": {},
   "source": [
    "Adding MVT_Deposit, MVT_Occurrence columns to datacube"
   ]
  },
  {
   "cell_type": "code",
   "execution_count": null,
   "metadata": {},
   "outputs": [],
   "source": [
    "datacube, notrecogdep = utils.mvt_dep_occur_to_s2cells(datacube, df_dep, colname='MVT_Deposit')\n",
    "datacube, notrecogocc = utils.mvt_dep_occur_to_s2cells(datacube, df_occ, colname='MVT_Occurrence')"
   ]
  },
  {
   "cell_type": "markdown",
   "metadata": {},
   "source": [
    "Add neighbors column to datacube"
   ]
  },
  {
   "cell_type": "code",
   "execution_count": null,
   "metadata": {},
   "outputs": [],
   "source": [
    "datacube = utils.neighbor_deposits(datacube, deptype='MVT')"
   ]
  },
  {
   "cell_type": "markdown",
   "metadata": {},
   "source": [
    "Populate the datacube using as many process as available CPUs"
   ]
  },
  {
   "cell_type": "code",
   "execution_count": null,
   "metadata": {},
   "outputs": [],
   "source": [
    "datacube = utils.populate_datacube(datacube, tifs+shps)"
   ]
  },
  {
   "cell_type": "markdown",
   "metadata": {},
   "source": [
    "Final filtering of s2 cells that contain no data"
   ]
  },
  {
   "cell_type": "code",
   "execution_count": null,
   "metadata": {},
   "outputs": [],
   "source": [
    "print(f\"Removing {np.count_nonzero(np.isnan(datacube.loc[:, tifs+shps].values).all(axis=1))} s2 cells that have no geophysical data\")\n",
    "datacube = datacube[~np.isnan(datacube.loc[:, tifs+shps].values).all(axis=1)]"
   ]
  },
  {
   "cell_type": "markdown",
   "metadata": {},
   "source": [
    "Store the datacube for future use"
   ]
  },
  {
   "cell_type": "code",
   "execution_count": null,
   "metadata": {},
   "outputs": [],
   "source": [
    "datacube.to_csv(f\"{DERIV_DATA_DIR}datacube_aus.csv\", index=False)"
   ]
  }
 ],
 "metadata": {
  "kernelspec": {
   "display_name": "aie-cmaas-pp",
   "language": "python",
   "name": "python3"
  },
  "language_info": {
   "codemirror_mode": {
    "name": "ipython",
    "version": 3
   },
   "file_extension": ".py",
   "mimetype": "text/x-python",
   "name": "python",
   "nbconvert_exporter": "python",
   "pygments_lexer": "ipython3",
   "version": "3.8.18"
  },
  "orig_nbformat": 4
 },
 "nbformat": 4,
 "nbformat_minor": 2
}
