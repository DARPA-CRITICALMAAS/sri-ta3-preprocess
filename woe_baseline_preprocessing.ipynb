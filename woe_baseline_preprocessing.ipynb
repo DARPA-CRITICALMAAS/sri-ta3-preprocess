{
 "cells": [
  {
   "cell_type": "markdown",
   "metadata": {},
   "source": [
    "Plan for steps in this processing code\n",
    "1. Define a base grid\n",
    "2. Load all the tif files - know how\n",
    "4. Load the shp files - know how\n",
    "5. Project the shp files to tif - at the resolution / bounds, etc with the base grid - know how\n",
    "6. Generate the train deposit / occurence tif files - know how\n",
    "6. Unify all the tif data - know how"
   ]
  },
  {
   "cell_type": "code",
   "execution_count": null,
   "metadata": {},
   "outputs": [],
   "source": [
    "import matplotlib.pyplot as plt\n",
    "import numpy as np\n",
    "from tqdm import tqdm\n",
    "import rasterio\n",
    "\n",
    "import utilities as utils"
   ]
  },
  {
   "cell_type": "code",
   "execution_count": null,
   "metadata": {},
   "outputs": [],
   "source": [
    "tifs, shps = utils.get_input_var_files(\"Australia\")"
   ]
  },
  {
   "cell_type": "markdown",
   "metadata": {},
   "source": [
    "Loads the raster data"
   ]
  },
  {
   "cell_type": "code",
   "execution_count": null,
   "metadata": {},
   "outputs": [],
   "source": [
    "rasters = utils.load_rasters(tifs, verbosity=1)"
   ]
  },
  {
   "cell_type": "markdown",
   "metadata": {},
   "source": [
    "Loads rasters of the vector data if available; otherwise generates them"
   ]
  },
  {
   "cell_type": "code",
   "execution_count": null,
   "metadata": {},
   "outputs": [],
   "source": [
    "try:\n",
    "    rasters += utils.load_rasters(shps, verbosity=1)\n",
    "except rasterio.RasterioIOError:\n",
    "    base_raster = rasters[-1] # defaults to intermediate resolution raster\n",
    "    vectors = utils.load_vectors(shps, verbosity=0)\n",
    "    pbar = tqdm(zip(shps, vectors))\n",
    "    for shp, vector in pbar:\n",
    "        pbar.set_description(f\"Processing {shp}\")\n",
    "        utils.proximity_raster_of_vector_points(base_raster, shp, vector)\n",
    "    rasters += utils.load_rasters(shps, verbosity=1)"
   ]
  },
  {
   "cell_type": "code",
   "execution_count": null,
   "metadata": {},
   "outputs": [],
   "source": [
    "bottom = left = 180.0\n",
    "top = right = -180.0\n",
    "for raster in rasters:\n",
    "    if raster.bounds.left < left:\n",
    "        left = raster.bounds.left\n",
    "    if raster.bounds.bottom < bottom:\n",
    "        bottom = raster.bounds.bottom\n",
    "    if raster.bounds.top > top:\n",
    "        top = raster.bounds.top\n",
    "    if raster.bounds.right > right:\n",
    "        right = raster.bounds.right\n",
    "print(f\"Computed bounds - left {left},right {right},top {top},bottom {bottom}\\n\")"
   ]
  },
  {
   "cell_type": "code",
   "execution_count": null,
   "metadata": {},
   "outputs": [],
   "source": [
    "region_rect = S2LatLngRect(\n",
    "    S2LatLng.FromDegrees(-51.264871, -30.241701),\n",
    "    S2LatLng.FromDegrees(-51.04618, -30.000003))\n",
    "coverer = S2RegionCoverer()\n",
    "coverer.set_min_level(8)\n",
    "coverer.set_max_level(15)\n",
    "coverer.set_max_cells(500)\n",
    "covering = coverer.GetCovering(region_rect)\n"
   ]
  },
  {
   "cell_type": "code",
   "execution_count": null,
   "metadata": {},
   "outputs": [],
   "source": [
    "x, y, interpolated_values = simple_idw(deep_mag_worms_aus, \"Steepness\", (0.2, 0.2))"
   ]
  },
  {
   "cell_type": "code",
   "execution_count": null,
   "metadata": {},
   "outputs": [],
   "source": [
    "plt.imshow(interpolated_values, cmap='jet', extent=[x.min(), x.max(), y.min(), y.max()])\n",
    "plt.colorbar()\n",
    "plt.xlabel('X')\n",
    "plt.ylabel('Y')\n",
    "plt.title('IDW Interpolation')\n",
    "plt.show()"
   ]
  },
  {
   "cell_type": "code",
   "execution_count": null,
   "metadata": {},
   "outputs": [],
   "source": [
    "arr = aus_rasters[1].read(1, masked=False)\n",
    "plt.imshow(arr, cmap='gray')\n",
    "plt.colorbar()\n",
    "plt.xlabel('X')\n",
    "plt.ylabel('Y')\n",
    "plt.title('AUS Moho - without mask')\n",
    "plt.show()\n",
    "\n",
    "arr = aus_rasters[1].read(1, masked=True)\n",
    "plt.imshow(arr, cmap='gray')\n",
    "plt.colorbar()\n",
    "plt.xlabel('X')\n",
    "plt.ylabel('Y')\n",
    "plt.title('AUS Moho - with mask')\n",
    "plt.show()"
   ]
  },
  {
   "cell_type": "code",
   "execution_count": null,
   "metadata": {},
   "outputs": [],
   "source": [
    "# -*- coding: utf-8 -*-\n",
    "\n",
    "# Simple s2 KML generator\n",
    "# Copyright 2018, Sean C. Nichols\n",
    "#  seanni@trichotomy.ca\n",
    "\n",
    "# Hereby released into the public domain: feel free to abuse this code as you see fit!\n",
    "#\n",
    "\n",
    "# usage: python s2gen.py <max_lat> <min_lat> <max_lng> <min_lng> <s2_lvl>\n",
    "#\n",
    "# (i.e.: N-S-E-W order)\n",
    "#\n",
    "\n",
    "from __future__ import print_function\n",
    "\n",
    "from sys import argv, stderr\n",
    "\n",
    "from s2sphere import RegionCoverer, Cell, LatLng, LatLngRect\n",
    "\n",
    "def usage(msg=None):\n",
    "    if msg:\n",
    "        stderr.write(msg + '\\n\\n')\n",
    "    stderr.write('usage: {} <max_lat> <min_lat> <max_lng> <min_lng> <s2_lvl>\\n'.format(argv[0]))\n",
    "    exit(1)\n",
    "\n",
    "def swap_latlong(latlong):\n",
    "    return '{},{}'.format(*latlong.split(',')[::-1])\n",
    "\n",
    "def s2gen(max_lat, min_lat, max_lng, min_lng, s2_lvl):\n",
    "    point_nw = LatLng.from_degrees(max_lat, min_lng)\n",
    "    point_se = LatLng.from_degrees(min_lat, max_lng)\n",
    "\n",
    "    rc = RegionCoverer()\n",
    "    rc.min_level = s2_lvl\n",
    "    rc.max_level = s2_lvl\n",
    "    rc.max_cells = 1000000\n",
    "\n",
    "    cellids = rc.get_covering(LatLngRect.from_point_pair(point_nw, point_se))\n",
    "\n",
    "    kml = (\n",
    "        '<?xml version=\"1.0\" encoding=\"UTF-8\"?>\\n'\n",
    "        '<kml xmlns=\"http://www.opengis.net/kml/2.2\" xmlns:kml=\"http://www.opengis.net/kml/2.2\" xmlns:atom=\"http://www.w3.org/2005/Atom\">\\n'\n",
    "        '<Document><name>{0}</name>\\n'\n",
    "        '<Style id=\"s2_poly_style\"><LineStyle><color>ff0000ff</color><width>2</width></LineStyle><PolyStyle><fill>0</fill></PolyStyle></Style>\\n'\n",
    "        '<Folder><name>{0}</name><open>1</open>'\n",
    "    ).format('S2 cells level ' + str(s2_lvl))\n",
    "    for cid in cellids:\n",
    "        vertices = [LatLng.from_point(Cell(cid).get_vertex(v)) for v in range(4)]\n",
    "        kml_coords = ['{},0'.format(swap_latlong(str(v).split()[-1])) for v in vertices]\n",
    "        kml += (\n",
    "            '<Placemark><name>{}</name><styleUrl>#s2_poly_style</styleUrl><Polygon><tessellate>1</tessellate><outerBoundaryIs><LinearRing>'\n",
    "            '<coordinates>{} {}</coordinates>'\n",
    "            '</LinearRing></outerBoundaryIs></Polygon></Placemark>'\n",
    "        ).format(cid.id(), ' '.join(kml_coords), kml_coords[0])\n",
    "    kml += (\n",
    "        '</Folder></Document>\\n'\n",
    "        '</kml>'\n",
    "    )\n",
    "\n",
    "    return kml\n",
    "\n",
    "kml_doc = s2gen(-43.65, -10.049999999999997, 153.65, 112.95, 12)\n",
    "with open(\"s2_cell.kml\", \"w\") as f:\n",
    "    f.write(kml_doc)"
   ]
  }
 ],
 "metadata": {
  "kernelspec": {
   "display_name": "aie-cmaas-pp",
   "language": "python",
   "name": "python3"
  },
  "language_info": {
   "codemirror_mode": {
    "name": "ipython",
    "version": 3
   },
   "file_extension": ".py",
   "mimetype": "text/x-python",
   "name": "python",
   "nbconvert_exporter": "python",
   "pygments_lexer": "ipython3",
   "version": "3.10.12"
  },
  "orig_nbformat": 4
 },
 "nbformat": 4,
 "nbformat_minor": 2
}
