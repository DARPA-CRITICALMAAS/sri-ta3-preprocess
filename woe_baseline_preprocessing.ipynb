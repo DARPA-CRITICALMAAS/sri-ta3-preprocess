{
 "cells": [
  {
   "cell_type": "code",
   "execution_count": 1,
   "metadata": {},
   "outputs": [],
   "source": [
    "import rasterio\n",
    "import geopandas as gpd"
   ]
  },
  {
   "cell_type": "code",
   "execution_count": 2,
   "metadata": {},
   "outputs": [],
   "source": [
    "tif_files = [\n",
    "    \"GeophysicsLAB_USCanada\",\n",
    "    \"GeophysicsLAB_Australia\",\n",
    "    \"USCanada_Moho\",\n",
    "    \"GeophysicsMoho_Australia\",\n",
    "    \"GeophysicsSatelliteGravity_ShapeIndex_USCanada\",\n",
    "    \"GeophysicsSatelliteGravity_ShapeIndex_Australia\",\n",
    "    \"GeophysicsGravity_USCanada\",\n",
    "    \"GeophysicsGravity_Australia\",\n",
    "    \"GeophysicsGravity_HGM_USCanada\",\n",
    "    \"GeophysicsGravity_HGM_Australia\",\n",
    "    \"GeophysicsGravity_Up30km_USCanada\",\n",
    "    \"GeophysicsGravity_UpCont30km_Australia\",\n",
    "    \"GeophysicsGravity_Up30km_HGM_USCanada\",\n",
    "    \"GeophysicsGravity_UpCont30km_HGM_Australia\",\n",
    "    \"GeophysicsMag_RTP_USCanada\",\n",
    "    \"GeophysicsMagRTP_Australia\",\n",
    "    \"USCanadaMagRTP_DeepSources\",\n",
    "    \"GeophysicsMagRTP_DeepSources_Australia\",\n",
    "    \"GeophysicsMag_RTP_VD_USCanada\",\n",
    "    \"GeophysicsMagRTP_VD_Australia\",\n",
    "    \"GeophysicsMag_RTP_HGM_USCanada\",\n",
    "    \"GeophysicsMagRTP_HGM_Australia\",\n",
    "    \"USCanadaMagRTP_HGMDeepSources\",\n",
    "    \"GeophysicsMagRTP_HGMDeepSources_Australia\",\n",
    "]\n",
    "\n",
    "shp_files = [\n",
    "    \"ShallowGravitySources_Worms_USCanada\",\n",
    "    \"ShallowGravitySources_Worms_Australia\",\n",
    "    \"DeepGravitySources_Worms_USCanada\",\n",
    "    \"DeepGravitySources_Worms_Australia\",\n",
    "    \"ShallowMagSources_Worms_USCanada\",\n",
    "    \"ShallowMagSources_Worms_Australia\",\n",
    "    \"DeepMagSources_Worms_USCanada\",\n",
    "    \"DeepMagSources_Worms_Australia\",\n",
    "]"
   ]
  },
  {
   "cell_type": "code",
   "execution_count": 5,
   "metadata": {},
   "outputs": [
    {
     "name": "stdout",
     "output_type": "stream",
     "text": [
      "Loading GeophysicsLAB_USCanada\n",
      "Loading GeophysicsLAB_Australia\n",
      "Loading USCanada_Moho\n",
      "Loading GeophysicsMoho_Australia\n",
      "Loading GeophysicsSatelliteGravity_ShapeIndex_USCanada\n",
      "Loading GeophysicsSatelliteGravity_ShapeIndex_Australia\n",
      "Loading GeophysicsGravity_USCanada\n",
      "Loading GeophysicsGravity_Australia\n",
      "Loading GeophysicsGravity_HGM_USCanada\n",
      "Loading GeophysicsGravity_HGM_Australia\n",
      "Loading GeophysicsGravity_Up30km_USCanada\n",
      "Loading GeophysicsGravity_UpCont30km_Australia\n",
      "Loading GeophysicsGravity_Up30km_HGM_USCanada\n",
      "Loading GeophysicsGravity_UpCont30km_HGM_Australia\n",
      "Loading GeophysicsMag_RTP_USCanada\n",
      "Loading GeophysicsMagRTP_Australia\n",
      "Loading USCanadaMagRTP_DeepSources\n",
      "Loading GeophysicsMagRTP_DeepSources_Australia\n",
      "Loading GeophysicsMag_RTP_VD_USCanada\n",
      "Loading GeophysicsMagRTP_VD_Australia\n",
      "Loading GeophysicsMag_RTP_HGM_USCanada\n",
      "Loading GeophysicsMagRTP_HGM_Australia\n",
      "Loading USCanadaMagRTP_HGMDeepSources\n",
      "Loading GeophysicsMagRTP_HGMDeepSources_Australia\n"
     ]
    }
   ],
   "source": [
    "rasters = []\n",
    "for tif_file in tif_files:\n",
    "    print(f\"Loading {tif_file}\")\n",
    "    rasters.append(rasterio.open(f'./data/LAWLEY22-RAW/geophysics/{tif_file}.tif'))\n"
   ]
  },
  {
   "cell_type": "code",
   "execution_count": 6,
   "metadata": {},
   "outputs": [
    {
     "name": "stdout",
     "output_type": "stream",
     "text": [
      "Loading ShallowGravitySources_Worms_USCanada\n",
      "Loading ShallowGravitySources_Worms_Australia\n",
      "Loading DeepGravitySources_Worms_USCanada\n",
      "Loading DeepGravitySources_Worms_Australia\n",
      "Loading ShallowMagSources_Worms_USCanada\n",
      "Loading ShallowMagSources_Worms_Australia\n",
      "Loading DeepMagSources_Worms_USCanada\n",
      "Loading DeepMagSources_Worms_Australia\n"
     ]
    }
   ],
   "source": [
    "vectors = []\n",
    "for shp_file in shp_files:\n",
    "    print(f\"Loading {shp_file}\")\n",
    "    vectors.append(gpd.read_file(f'./data/LAWLEY22-RAW/geophysics/{shp_file}.shp'))"
   ]
  }
 ],
 "metadata": {
  "kernelspec": {
   "display_name": "aie-cmaas-pp",
   "language": "python",
   "name": "python3"
  },
  "language_info": {
   "codemirror_mode": {
    "name": "ipython",
    "version": 3
   },
   "file_extension": ".py",
   "mimetype": "text/x-python",
   "name": "python",
   "nbconvert_exporter": "python",
   "pygments_lexer": "ipython3",
   "version": "3.10.12"
  },
  "orig_nbformat": 4
 },
 "nbformat": 4,
 "nbformat_minor": 2
}
