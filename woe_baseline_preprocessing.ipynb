{
 "cells": [
  {
   "cell_type": "markdown",
   "metadata": {},
   "source": [
    "Plan for steps in this processing code\n",
    "1. Define a base grid\n",
    "2. Load all the tif files - know how\n",
    "4. Load the shp files - know how\n",
    "5. Project the shp files to tif - at the resolution / bounds, etc with the base grid - know how\n",
    "6. Generate the train deposit / occurence tif files - know how\n",
    "6. Unify all the tif data - know how"
   ]
  },
  {
   "cell_type": "code",
   "execution_count": 1,
   "metadata": {},
   "outputs": [],
   "source": [
    "import matplotlib.pyplot as plt\n",
    "import numpy as np\n",
    "from tqdm import tqdm\n",
    "import rasterio\n",
    "import rasterio.mask\n",
    "from s2sphere import CellId\n",
    "from shapely import Point\n",
    "import pandas as pd\n",
    "\n",
    "import multiprocessing as mp\n",
    "from functools import partial\n",
    "\n",
    "import utilities as utils\n",
    "\n",
    "RAW_DATA_DIR = \"data/LAWLEY22-RAW/geophysics/\"\n",
    "DERIV_DATA_DIR = \"data/LAWLEY22-DERIV/geophysics/\""
   ]
  },
  {
   "cell_type": "code",
   "execution_count": 2,
   "metadata": {},
   "outputs": [],
   "source": [
    "tifs, shps = utils.get_input_var_files(\"Australia\")"
   ]
  },
  {
   "cell_type": "markdown",
   "metadata": {},
   "source": [
    "Loads the raster data"
   ]
  },
  {
   "cell_type": "code",
   "execution_count": 3,
   "metadata": {},
   "outputs": [
    {
     "name": "stdout",
     "output_type": "stream",
     "text": [
      "-------- GeophysicsLAB_Australia raster details --------\n",
      "\n",
      "Raster bands and dtypes:\n",
      "{1: 'float32'}\n",
      "\n",
      "\n",
      "Coordinate reference system:\n",
      "EPSG:4326\n",
      "\n",
      "\n",
      "Bounds:BoundingBox(left=112.95, bottom=-43.65, right=153.65, top=-10.049999999999997),Size:(336, 407),Resolution:(0.1, 0.1)\n",
      "\n",
      "\n",
      "-------- GeophysicsMoho_Australia raster details --------\n",
      "\n",
      "Raster bands and dtypes:\n",
      "{1: 'float32'}\n",
      "\n",
      "\n",
      "Coordinate reference system:\n",
      "EPSG:4326\n",
      "\n",
      "\n",
      "Bounds:BoundingBox(left=112.95, bottom=-43.65, right=153.65, top=-9.349999999999994),Size:(343, 407),Resolution:(0.1, 0.1)\n",
      "\n",
      "\n",
      "-------- GeophysicsSatelliteGravity_ShapeIndex_Australia raster details --------\n",
      "\n",
      "Raster bands and dtypes:\n",
      "{1: 'float32'}\n",
      "\n",
      "\n",
      "Coordinate reference system:\n",
      "EPSG:4326\n",
      "\n",
      "\n",
      "Bounds:BoundingBox(left=113.0, bottom=-43.6, right=153.6, top=-10.600000000000001),Size:(165, 203),Resolution:(0.2, 0.2)\n",
      "\n",
      "\n",
      "-------- GeophysicsGravity_Australia raster details --------\n",
      "\n",
      "Raster bands and dtypes:\n",
      "{1: 'float32'}\n",
      "\n",
      "\n",
      "Coordinate reference system:\n",
      "EPSG:4326\n",
      "\n",
      "\n",
      "Bounds:BoundingBox(left=112.919835, bottom=-43.656585, right=159.100865, top=-9.221274999999999),Size:(6227, 8351),Resolution:(0.00553, 0.00553)\n",
      "\n",
      "\n",
      "-------- GeophysicsGravity_HGM_Australia raster details --------\n",
      "\n",
      "Raster bands and dtypes:\n",
      "{1: 'float32'}\n",
      "\n",
      "\n",
      "Coordinate reference system:\n",
      "EPSG:4326\n",
      "\n",
      "\n",
      "Bounds:BoundingBox(left=112.919835, bottom=-43.656585, right=159.100865, top=-9.221274999999999),Size:(6227, 8351),Resolution:(0.00553, 0.00553)\n",
      "\n",
      "\n",
      "-------- GeophysicsGravity_UpCont30km_Australia raster details --------\n",
      "\n",
      "Raster bands and dtypes:\n",
      "{1: 'float32'}\n",
      "\n",
      "\n",
      "Coordinate reference system:\n",
      "EPSG:4326\n",
      "\n",
      "\n",
      "Bounds:BoundingBox(left=112.919835, bottom=-43.656585, right=159.100865, top=-9.221274999999999),Size:(6227, 8351),Resolution:(0.00553, 0.00553)\n",
      "\n",
      "\n",
      "-------- GeophysicsGravity_UpCont30km_HGM_Australia raster details --------\n",
      "\n",
      "Raster bands and dtypes:\n",
      "{1: 'float32'}\n",
      "\n",
      "\n",
      "Coordinate reference system:\n",
      "EPSG:4326\n",
      "\n",
      "\n",
      "Bounds:BoundingBox(left=112.919835, bottom=-43.656585, right=159.100865, top=-9.221274999999999),Size:(6227, 8351),Resolution:(0.00553, 0.00553)\n",
      "\n",
      "\n",
      "-------- GeophysicsMagRTP_Australia raster details --------\n",
      "\n",
      "Raster bands and dtypes:\n",
      "{1: 'float32'}\n",
      "\n",
      "\n",
      "Coordinate reference system:\n",
      "EPSG:4326\n",
      "\n",
      "\n",
      "Bounds:BoundingBox(left=112.91847325, bottom=-43.64094395, right=153.63184465, top=-10.049787649999999),Size:(13437, 16286),Resolution:(0.0024999, 0.0024999)\n",
      "\n",
      "\n",
      "-------- GeophysicsMagRTP_DeepSources_Australia raster details --------\n",
      "\n",
      "Raster bands and dtypes:\n",
      "{1: 'float32'}\n",
      "\n",
      "\n",
      "Coordinate reference system:\n",
      "EPSG:4326\n",
      "\n",
      "\n",
      "Bounds:BoundingBox(left=112.91657, bottom=-43.64087, right=153.62762999999998, top=-10.054850000000002),Size:(4167, 5051),Resolution:(0.00806, 0.00806)\n",
      "\n",
      "\n",
      "-------- GeophysicsMagRTP_VD_Australia raster details --------\n",
      "\n",
      "Raster bands and dtypes:\n",
      "{1: 'float32'}\n",
      "\n",
      "\n",
      "Coordinate reference system:\n",
      "EPSG:4326\n",
      "\n",
      "\n",
      "Bounds:BoundingBox(left=112.91847325, bottom=-43.64094395, right=153.63184465, top=-10.049787649999999),Size:(13437, 16286),Resolution:(0.0024999, 0.0024999)\n",
      "\n",
      "\n",
      "-------- GeophysicsMagRTP_HGM_Australia raster details --------\n",
      "\n",
      "Raster bands and dtypes:\n",
      "{1: 'float32'}\n",
      "\n",
      "\n",
      "Coordinate reference system:\n",
      "EPSG:4326\n",
      "\n",
      "\n",
      "Bounds:BoundingBox(left=112.91657, bottom=-43.64087, right=153.62762999999998, top=-10.054850000000002),Size:(4167, 5051),Resolution:(0.00806, 0.00806)\n",
      "\n",
      "\n",
      "-------- GeophysicsMagRTP_HGMDeepSources_Australia raster details --------\n",
      "\n",
      "Raster bands and dtypes:\n",
      "{1: 'float32'}\n",
      "\n",
      "\n",
      "Coordinate reference system:\n",
      "EPSG:4326\n",
      "\n",
      "\n",
      "Bounds:BoundingBox(left=112.9185, bottom=-43.63974, right=153.63126, top=-10.04778000000001),Size:(4057, 4917),Resolution:(0.00828, 0.00828)\n",
      "\n",
      "\n"
     ]
    }
   ],
   "source": [
    "rasters = utils.load_rasters(tifs, rasters_path=RAW_DATA_DIR, verbosity=1)"
   ]
  },
  {
   "cell_type": "markdown",
   "metadata": {},
   "source": [
    "Loads rasters of the vector data if available; otherwise generates them"
   ]
  },
  {
   "cell_type": "code",
   "execution_count": 4,
   "metadata": {},
   "outputs": [
    {
     "name": "stdout",
     "output_type": "stream",
     "text": [
      "-------- ShallowGravitySources_Worms_Australia raster details --------\n",
      "\n",
      "Raster bands and dtypes:\n",
      "{1: 'float32'}\n",
      "\n",
      "\n",
      "Coordinate reference system:\n",
      "EPSG:4326\n",
      "\n",
      "\n",
      "Bounds:BoundingBox(left=112.9185, bottom=-43.63974, right=153.63126, top=-10.04778000000001),Size:(4057, 4917),Resolution:(0.00828, 0.00828)\n",
      "\n",
      "\n",
      "-------- DeepGravitySources_Worms_Australia raster details --------\n",
      "\n",
      "Raster bands and dtypes:\n",
      "{1: 'float32'}\n",
      "\n",
      "\n",
      "Coordinate reference system:\n",
      "EPSG:4326\n",
      "\n",
      "\n",
      "Bounds:BoundingBox(left=112.9185, bottom=-43.63974, right=153.63126, top=-10.04778000000001),Size:(4057, 4917),Resolution:(0.00828, 0.00828)\n",
      "\n",
      "\n",
      "-------- ShallowMagSources_Worms_Australia raster details --------\n",
      "\n",
      "Raster bands and dtypes:\n",
      "{1: 'float32'}\n",
      "\n",
      "\n",
      "Coordinate reference system:\n",
      "EPSG:4326\n",
      "\n",
      "\n",
      "Bounds:BoundingBox(left=112.9185, bottom=-43.63974, right=153.63126, top=-10.04778000000001),Size:(4057, 4917),Resolution:(0.00828, 0.00828)\n",
      "\n",
      "\n",
      "-------- DeepMagSources_Worms_Australia raster details --------\n",
      "\n",
      "Raster bands and dtypes:\n",
      "{1: 'float32'}\n",
      "\n",
      "\n",
      "Coordinate reference system:\n",
      "EPSG:4326\n",
      "\n",
      "\n",
      "Bounds:BoundingBox(left=112.9185, bottom=-43.63974, right=153.63126, top=-10.04778000000001),Size:(4057, 4917),Resolution:(0.00828, 0.00828)\n",
      "\n",
      "\n"
     ]
    }
   ],
   "source": [
    "try:\n",
    "    rasters += utils.load_rasters(shps, rasters_path=DERIV_DATA_DIR, verbosity=1)\n",
    "except rasterio.RasterioIOError:\n",
    "    base_raster = rasters[-1] # defaults to intermediate resolution raster\n",
    "    vectors = utils.load_vectors(shps, vectors_path=RAW_DATA_DIR, verbosity=0)\n",
    "    pbar = tqdm(zip(shps, vectors))\n",
    "    for shp, vector in pbar:\n",
    "        pbar.set_description(f\"Processing {shp}\")\n",
    "        utils.proximity_raster_of_vector_points(base_raster, shp, vector)\n",
    "    rasters += utils.load_rasters(shps, rasters_path=DERIV_DATA_DIR, verbosity=1)"
   ]
  },
  {
   "cell_type": "markdown",
   "metadata": {},
   "source": [
    "Loads the base grid for all data if available; otherwise generates it"
   ]
  },
  {
   "cell_type": "code",
   "execution_count": 5,
   "metadata": {},
   "outputs": [],
   "source": [
    "grid_cell_file = f\"{DERIV_DATA_DIR}s2_grid_aus.npy\"\n",
    "try:\n",
    "    grid_cell_ids = np.load(grid_cell_file)\n",
    "except OSError:\n",
    "    grid_bounds = utils.compute_bounds(rasters, verbosity=1)\n",
    "    # gets all s2 cells\n",
    "    grid_cells = utils.region_of_cellids(grid_bounds, s2_level=12)\n",
    "    # filters s2 cells over water\n",
    "    ocean = utils.load_vector(\"ne_10m_ocean\",\"data/ocean/\",verbosity=0)\n",
    "    grid_cells = [grid_cell for grid_cell in grid_cells if not ocean[\"geometry\"][0].intersects(Point(utils.s2_cell_center(grid_cell)))]\n",
    "    # store remaining cell ids\n",
    "    grid_cell_ids = [grid_cell.id() for grid_cell in grid_cells]\n",
    "    np.save(grid_cell_file, np.asarray(grid_cell_ids, dtype=np.uint64))"
   ]
  },
  {
   "cell_type": "markdown",
   "metadata": {},
   "source": [
    "Initialize the datacube"
   ]
  },
  {
   "cell_type": "code",
   "execution_count": 6,
   "metadata": {},
   "outputs": [],
   "source": [
    "datacube = utils.init_datacube({\"s2_cell_id\": grid_cell_ids}, [\"s2_cell_center\", \"s2_cell_poly\"] + tifs + shps, verbosity=1)"
   ]
  },
  {
   "cell_type": "markdown",
   "metadata": {},
   "source": [
    "Populate the datacube using as many process as available CPUs"
   ]
  },
  {
   "cell_type": "code",
   "execution_count": 8,
   "metadata": {},
   "outputs": [
    {
     "name": "stdout",
     "output_type": "stream",
     "text": [
      "Number of threads populating datacube - 32\n"
     ]
    },
    {
     "name": "stderr",
     "output_type": "stream",
     "text": [
      " 23%|██▎       | 385099/1647042 [12:05<38:07, 551.64it/s]  "
     ]
    }
   ],
   "source": [
    "def process_datacube(row, cols):\n",
    "    s2cell = CellId(int(row[1][\"s2_cell_id\"]))\n",
    "    row[1][\"s2_cell_center\"] = utils.s2_cell_center(s2cell)\n",
    "    row[1][\"s2_cell_poly\"] = utils.s2_cell_polygon(s2cell)\n",
    "    for col, raster in zip(cols, utils.load_rasters(cols)):\n",
    "        try:\n",
    "            masked, _ = rasterio.mask.mask(raster, [row[1][\"s2_cell_poly\"]], crop=True)\n",
    "            if (raster.nodata == masked).all(): continue\n",
    "            row[1][col] = np.mean(masked[raster.nodata != masked])\n",
    "            row[1][\"mask\"] = True\n",
    "        except ValueError:\n",
    "            continue\n",
    "    return row\n",
    "\n",
    "# process_datacube_multi = partial(process_datacube, cols=tifs + shps, rass=rasters)\n",
    "process_datacube_multi = partial(process_datacube, cols=tifs + shps)\n",
    "\n",
    "# set up multiprocessing pool\n",
    "print(f\"Number of threads populating datacube - {mp.cpu_count()}\")\n",
    "pool = mp.Pool(mp.cpu_count())\n",
    "\n",
    "# apply function to DataFrame in parallel\n",
    "results = []\n",
    "for result in tqdm(pool.imap(process_datacube_multi, datacube.iterrows()), total=datacube.shape[0]):\n",
    "    results.append(result)\n",
    "\n",
    "# merge results back together\n",
    "datacube = pd.DataFrame.from_records(results)"
   ]
  },
  {
   "cell_type": "markdown",
   "metadata": {},
   "source": [
    "Store the datacube for future use"
   ]
  },
  {
   "cell_type": "code",
   "execution_count": null,
   "metadata": {},
   "outputs": [],
   "source": [
    "datacube.to_csv(f\"{DERIV_DATA_DIR}datacube.csv\")"
   ]
  }
 ],
 "metadata": {
  "kernelspec": {
   "display_name": "aie-cmaas-pp",
   "language": "python",
   "name": "python3"
  },
  "language_info": {
   "codemirror_mode": {
    "name": "ipython",
    "version": 3
   },
   "file_extension": ".py",
   "mimetype": "text/x-python",
   "name": "python",
   "nbconvert_exporter": "python",
   "pygments_lexer": "ipython3",
   "version": "3.10.12"
  },
  "orig_nbformat": 4
 },
 "nbformat": 4,
 "nbformat_minor": 2
}
