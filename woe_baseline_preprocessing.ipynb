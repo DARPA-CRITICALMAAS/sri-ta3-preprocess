{
 "cells": [
  {
   "cell_type": "markdown",
   "metadata": {},
   "source": [
    "Plan for steps in this processing code\n",
    "1. Define a base grid\n",
    "2. Load all the tif files - know how\n",
    "4. Load the shp files - know how\n",
    "5. Project the shp files to tif - at the resolution / bounds, etc with the base grid - know how\n",
    "6. Generate the train deposit / occurence tif files - know how\n",
    "6. Unify all the tif data - know how"
   ]
  },
  {
   "cell_type": "code",
   "execution_count": 7,
   "metadata": {},
   "outputs": [],
   "source": [
    "import matplotlib.pyplot as plt\n",
    "import numpy as np\n",
    "from tqdm import tqdm\n",
    "import rasterio\n",
    "import pandas as pd\n",
    "\n",
    "import utilities as utils"
   ]
  },
  {
   "cell_type": "code",
   "execution_count": 2,
   "metadata": {},
   "outputs": [],
   "source": [
    "tifs, shps = utils.get_input_var_files(\"Australia\")"
   ]
  },
  {
   "cell_type": "markdown",
   "metadata": {},
   "source": [
    "Loads the raster data"
   ]
  },
  {
   "cell_type": "code",
   "execution_count": 3,
   "metadata": {},
   "outputs": [
    {
     "name": "stderr",
     "output_type": "stream",
     "text": [
      "Loading GeophysicsMagRTP_HGMDeepSources_Australia: 100%|██████████| 12/12 [00:00<00:00, 351.65it/s]"
     ]
    },
    {
     "name": "stdout",
     "output_type": "stream",
     "text": [
      "-------- GeophysicsLAB_Australia raster details --------\n",
      "\n",
      "Raster bands and dtypes:\n",
      "{1: 'float32'}\n",
      "\n",
      "\n",
      "Coordinate reference system:\n",
      "EPSG:4326\n",
      "\n",
      "\n",
      "Bounds:BoundingBox(left=112.95, bottom=-43.65, right=153.65, top=-10.049999999999997),Size:(336, 407),Resolution:(0.1, 0.1)\n",
      "\n",
      "\n",
      "-------- GeophysicsMoho_Australia raster details --------\n",
      "\n",
      "Raster bands and dtypes:\n",
      "{1: 'float32'}\n",
      "\n",
      "\n",
      "Coordinate reference system:\n",
      "EPSG:4326\n",
      "\n",
      "\n",
      "Bounds:BoundingBox(left=112.95, bottom=-43.65, right=153.65, top=-9.349999999999994),Size:(343, 407),Resolution:(0.1, 0.1)\n",
      "\n",
      "\n",
      "-------- GeophysicsSatelliteGravity_ShapeIndex_Australia raster details --------\n",
      "\n",
      "Raster bands and dtypes:\n",
      "{1: 'float32'}\n",
      "\n",
      "\n",
      "Coordinate reference system:\n",
      "EPSG:4326\n",
      "\n",
      "\n",
      "Bounds:BoundingBox(left=113.0, bottom=-43.6, right=153.6, top=-10.600000000000001),Size:(165, 203),Resolution:(0.2, 0.2)\n",
      "\n",
      "\n",
      "-------- GeophysicsGravity_Australia raster details --------\n",
      "\n",
      "Raster bands and dtypes:\n",
      "{1: 'float32'}\n",
      "\n",
      "\n",
      "Coordinate reference system:\n",
      "EPSG:4326\n",
      "\n",
      "\n",
      "Bounds:BoundingBox(left=112.919835, bottom=-43.656585, right=159.100865, top=-9.221274999999999),Size:(6227, 8351),Resolution:(0.00553, 0.00553)\n",
      "\n",
      "\n",
      "-------- GeophysicsGravity_HGM_Australia raster details --------\n",
      "\n",
      "Raster bands and dtypes:\n",
      "{1: 'float32'}\n",
      "\n",
      "\n",
      "Coordinate reference system:\n",
      "EPSG:4326\n",
      "\n",
      "\n",
      "Bounds:BoundingBox(left=112.919835, bottom=-43.656585, right=159.100865, top=-9.221274999999999),Size:(6227, 8351),Resolution:(0.00553, 0.00553)\n",
      "\n",
      "\n",
      "-------- GeophysicsGravity_UpCont30km_Australia raster details --------\n",
      "\n",
      "Raster bands and dtypes:\n",
      "{1: 'float32'}\n",
      "\n",
      "\n",
      "Coordinate reference system:\n",
      "EPSG:4326\n",
      "\n",
      "\n",
      "Bounds:BoundingBox(left=112.919835, bottom=-43.656585, right=159.100865, top=-9.221274999999999),Size:(6227, 8351),Resolution:(0.00553, 0.00553)\n",
      "\n",
      "\n",
      "-------- GeophysicsGravity_UpCont30km_HGM_Australia raster details --------\n",
      "\n",
      "Raster bands and dtypes:\n",
      "{1: 'float32'}\n",
      "\n",
      "\n",
      "Coordinate reference system:\n",
      "EPSG:4326\n",
      "\n",
      "\n",
      "Bounds:BoundingBox(left=112.919835, bottom=-43.656585, right=159.100865, top=-9.221274999999999),Size:(6227, 8351),Resolution:(0.00553, 0.00553)\n",
      "\n",
      "\n",
      "-------- GeophysicsMagRTP_Australia raster details --------\n",
      "\n",
      "Raster bands and dtypes:\n",
      "{1: 'float32'}\n",
      "\n",
      "\n",
      "Coordinate reference system:\n",
      "EPSG:4326\n",
      "\n",
      "\n",
      "Bounds:BoundingBox(left=112.91847325, bottom=-43.64094395, right=153.63184465, top=-10.049787649999999),Size:(13437, 16286),Resolution:(0.0024999, 0.0024999)\n",
      "\n",
      "\n",
      "-------- GeophysicsMagRTP_DeepSources_Australia raster details --------\n",
      "\n",
      "Raster bands and dtypes:\n",
      "{1: 'float32'}\n",
      "\n",
      "\n",
      "Coordinate reference system:\n",
      "EPSG:4326\n",
      "\n",
      "\n",
      "Bounds:BoundingBox(left=112.91657, bottom=-43.64087, right=153.62762999999998, top=-10.054850000000002),Size:(4167, 5051),Resolution:(0.00806, 0.00806)\n",
      "\n",
      "\n",
      "-------- GeophysicsMagRTP_VD_Australia raster details --------\n",
      "\n",
      "Raster bands and dtypes:\n",
      "{1: 'float32'}\n",
      "\n",
      "\n",
      "Coordinate reference system:\n",
      "EPSG:4326\n",
      "\n",
      "\n",
      "Bounds:BoundingBox(left=112.91847325, bottom=-43.64094395, right=153.63184465, top=-10.049787649999999),Size:(13437, 16286),Resolution:(0.0024999, 0.0024999)\n",
      "\n",
      "\n",
      "-------- GeophysicsMagRTP_HGM_Australia raster details --------\n",
      "\n",
      "Raster bands and dtypes:\n",
      "{1: 'float32'}\n",
      "\n",
      "\n",
      "Coordinate reference system:\n",
      "EPSG:4326\n",
      "\n",
      "\n",
      "Bounds:BoundingBox(left=112.91657, bottom=-43.64087, right=153.62762999999998, top=-10.054850000000002),Size:(4167, 5051),Resolution:(0.00806, 0.00806)\n",
      "\n",
      "\n",
      "-------- GeophysicsMagRTP_HGMDeepSources_Australia raster details --------\n",
      "\n",
      "Raster bands and dtypes:\n",
      "{1: 'float32'}\n",
      "\n",
      "\n",
      "Coordinate reference system:\n",
      "EPSG:4326\n",
      "\n",
      "\n",
      "Bounds:BoundingBox(left=112.9185, bottom=-43.63974, right=153.63126, top=-10.04778000000001),Size:(4057, 4917),Resolution:(0.00828, 0.00828)\n",
      "\n",
      "\n"
     ]
    },
    {
     "name": "stderr",
     "output_type": "stream",
     "text": [
      "\n"
     ]
    }
   ],
   "source": [
    "rasters = utils.load_rasters(tifs, verbosity=1)"
   ]
  },
  {
   "cell_type": "markdown",
   "metadata": {},
   "source": [
    "Loads rasters of the vector data if available; otherwise generates them"
   ]
  },
  {
   "cell_type": "code",
   "execution_count": 4,
   "metadata": {},
   "outputs": [
    {
     "name": "stderr",
     "output_type": "stream",
     "text": [
      "Loading DeepMagSources_Worms_Australia: 100%|██████████| 4/4 [00:00<00:00, 524.26it/s]"
     ]
    },
    {
     "name": "stdout",
     "output_type": "stream",
     "text": [
      "-------- ShallowGravitySources_Worms_Australia raster details --------\n",
      "\n",
      "Raster bands and dtypes:\n",
      "{1: 'float32'}\n",
      "\n",
      "\n",
      "Coordinate reference system:\n",
      "EPSG:4326\n",
      "\n",
      "\n",
      "Bounds:BoundingBox(left=112.9185, bottom=-43.63974, right=153.63126, top=-10.04778000000001),Size:(4057, 4917),Resolution:(0.00828, 0.00828)\n",
      "\n",
      "\n",
      "-------- DeepGravitySources_Worms_Australia raster details --------\n",
      "\n",
      "Raster bands and dtypes:\n",
      "{1: 'float32'}\n",
      "\n",
      "\n",
      "Coordinate reference system:\n",
      "EPSG:4326\n",
      "\n",
      "\n",
      "Bounds:BoundingBox(left=112.9185, bottom=-43.63974, right=153.63126, top=-10.04778000000001),Size:(4057, 4917),Resolution:(0.00828, 0.00828)\n",
      "\n",
      "\n",
      "-------- ShallowMagSources_Worms_Australia raster details --------\n",
      "\n",
      "Raster bands and dtypes:\n",
      "{1: 'float32'}\n",
      "\n",
      "\n",
      "Coordinate reference system:\n",
      "EPSG:4326\n",
      "\n",
      "\n",
      "Bounds:BoundingBox(left=112.9185, bottom=-43.63974, right=153.63126, top=-10.04778000000001),Size:(4057, 4917),Resolution:(0.00828, 0.00828)\n",
      "\n",
      "\n",
      "-------- DeepMagSources_Worms_Australia raster details --------\n",
      "\n",
      "Raster bands and dtypes:\n",
      "{1: 'float32'}\n",
      "\n",
      "\n",
      "Coordinate reference system:\n",
      "EPSG:4326\n",
      "\n",
      "\n",
      "Bounds:BoundingBox(left=112.9185, bottom=-43.63974, right=153.63126, top=-10.04778000000001),Size:(4057, 4917),Resolution:(0.00828, 0.00828)\n",
      "\n",
      "\n"
     ]
    },
    {
     "name": "stderr",
     "output_type": "stream",
     "text": [
      "\n"
     ]
    }
   ],
   "source": [
    "try:\n",
    "    rasters += utils.load_rasters(shps, verbosity=1)\n",
    "except rasterio.RasterioIOError:\n",
    "    base_raster = rasters[-1] # defaults to intermediate resolution raster\n",
    "    vectors = utils.load_vectors(shps, verbosity=0)\n",
    "    pbar = tqdm(zip(shps, vectors))\n",
    "    for shp, vector in pbar:\n",
    "        pbar.set_description(f\"Processing {shp}\")\n",
    "        utils.proximity_raster_of_vector_points(base_raster, shp, vector)\n",
    "    rasters += utils.load_rasters(shps, verbosity=1)"
   ]
  },
  {
   "cell_type": "markdown",
   "metadata": {},
   "source": [
    "Define a base grid for all data"
   ]
  },
  {
   "cell_type": "code",
   "execution_count": 5,
   "metadata": {},
   "outputs": [
    {
     "name": "stdout",
     "output_type": "stream",
     "text": [
      "Computed bounds - {'bottom': -43.656585, 'top': -9.221274999999999, 'left': 112.91657, 'right': 159.100865}\n",
      "\n",
      "Help on method from_point in module s2sphere.sphere:\n",
      "\n",
      "from_point(point) method of builtins.type instance\n",
      "\n"
     ]
    }
   ],
   "source": [
    "grid_bounds = utils.compute_bounds(rasters)\n",
    "print(f\"Computed bounds - {grid_bounds}\\n\")\n",
    "grid_cells = utils.region_of_cellids(grid_bounds, s2_level=12)"
   ]
  },
  {
   "cell_type": "markdown",
   "metadata": {},
   "source": [
    "Initialize the datacube"
   ]
  },
  {
   "cell_type": "code",
   "execution_count": 8,
   "metadata": {},
   "outputs": [],
   "source": [
    "datacube = pd.DataFrame(data={\"s2_cell_id\": grid_cells})\n",
    "for col in [\"s2_cell_center\", \"s2_cell_poly\"] + tifs + shps:\n",
    "    datacube[col] = np.nan\n",
    "datacube[\"mask\"] = True"
   ]
  },
  {
   "cell_type": "markdown",
   "metadata": {},
   "source": [
    "Populate the datacube"
   ]
  },
  {
   "cell_type": "code",
   "execution_count": null,
   "metadata": {},
   "outputs": [],
   "source": [
    "\n",
    "for row_idx, row in datacube.iterrows():\n",
    "    # get s2_cell_center\n",
    "    # get s2_cell_polygon?\n",
    "    for col_idx, col in tifs + shps:\n",
    "        # sample the average (or center) values for all rasters"
   ]
  }
 ],
 "metadata": {
  "kernelspec": {
   "display_name": "aie-cmaas-pp",
   "language": "python",
   "name": "python3"
  },
  "language_info": {
   "codemirror_mode": {
    "name": "ipython",
    "version": 3
   },
   "file_extension": ".py",
   "mimetype": "text/x-python",
   "name": "python",
   "nbconvert_exporter": "python",
   "pygments_lexer": "ipython3",
   "version": "3.10.12"
  },
  "orig_nbformat": 4
 },
 "nbformat": 4,
 "nbformat_minor": 2
}
